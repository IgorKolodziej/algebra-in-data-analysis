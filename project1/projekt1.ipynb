{
  "nbformat": 4,
  "nbformat_minor": 0,
  "metadata": {
    "colab": {
      "provenance": []
    },
    "kernelspec": {
      "name": "python3",
      "display_name": "Python 3"
    },
    "language_info": {
      "name": "python"
    }
  },
  "cells": [
    {
      "cell_type": "markdown",
      "source": [
        "\n",
        "# [PL] Projekt #1 Algebra w analizie danych \n",
        "\n",
        "\n",
        "Rozwiązanie zadań na pierwszy projekt z przedmiotu **,,Algebra w analizie danych\"**    \n",
        "\n",
        "**Kierunek**: Inżynieria i analiza danych  \n",
        "**Wydział:** Matematyki i Nauk Informacyjnych, Politechnika Warszawska\n",
        "\n",
        "**Słowa kluczowe** : \n",
        " * Macierze i klatki Jordana\n",
        " * Wartości własne \n",
        " * Wymiar jądra \n",
        " * Szybkie potęgowanie \n",
        " * Macierze podobne \n",
        "\n",
        "\n",
        "**Prowadzący:**  \n",
        "* Dr inż. Michał Zwierzyński\n",
        "\n",
        "**Twórcy:**\n",
        "- Igor Kołodziej\n",
        "- Mateusz Iwaniuk\n",
        "\n",
        "\n",
        "**Technologie**:\n",
        " - Python & SymPy\n",
        " - Jupyter Notebook\n",
        "\n",
        " ---\n",
        " # [EN] Project No.1 Algebra in data analysis \n",
        "\n",
        "\n",
        "Soloutions of problems prepared for 1st project from **,,Algebra in Data Analysis\"** subject\n",
        "\n",
        "**Field of study**: Data Science  \n",
        "**Faculty**: Mathematic and Information Sciences, Warsaw University of Technology\n",
        "\n",
        "**Keywords :**  \n",
        "* Jordan matrices and frames.\n",
        "* Eigenvalues. \n",
        "* Kernel dimension. \n",
        "* Quick power up. \n",
        "* Similar matrices\n",
        "\n",
        "\n",
        "**Professor**: \n",
        "* PhD Michał Zwierzyński\n",
        "\n",
        "**Students**: \n",
        "- Igor Kołodziej\n",
        "- Mateusz Iwaniuk\n",
        "\n",
        "\n",
        "**Technology**:\n",
        " - Python & SymPy\n",
        " - Jupyter Notebook\n",
        "\n",
        "\n",
        "\n",
        "\n"
      ],
      "metadata": {
        "id": "aBrX2yuSG4mt"
      }
    },
    {
      "cell_type": "code",
      "source": [
        "import sympy as sp\n",
        "from sympy import *\n",
        "from sympy import Matrix\n",
        "from sympy import Symbol, symbols\n",
        "from sympy.abc import x\n",
        "from sympy import printing\n",
        "init_printing(use_unicode=True)"
      ],
      "metadata": {
        "id": "tpDaF11kcBTu"
      },
      "execution_count": null,
      "outputs": []
    },
    {
      "cell_type": "markdown",
      "source": [
        "# Zadanko 1 | Task 1"
      ],
      "metadata": {
        "id": "-CdiTSC2Gtyn"
      }
    },
    {
      "cell_type": "markdown",
      "source": [
        "**[PL]** Oblicz kilka poczatkowych potęg macierzy A oraz wywnioskuj wzór na n-tą potęgę klatki Jordana 4 × 4, który wykorzystuje symbol Newtona\n",
        "\n",
        "**[EN]** \n",
        "Calculate the several powers of the matrix A and deduce the formula for the nth power of the 4 × 4 Jordan frame, which uses the Newton symbol"
      ],
      "metadata": {
        "id": "tD2WZHDywry5"
      }
    },
    {
      "cell_type": "code",
      "source": [
        "A = sp.jordan_cell(Symbol('lambda'), 4)\n",
        "A"
      ],
      "metadata": {
        "colab": {
          "base_uri": "https://localhost:8080/",
          "height": 99
        },
        "id": "o73c08r5ZOns",
        "outputId": "fd74e6d2-b02b-4d32-db31-56d97cb568a5"
      },
      "execution_count": null,
      "outputs": [
        {
          "output_type": "execute_result",
          "data": {
            "text/plain": [
              "⎡λ  1  0  0⎤\n",
              "⎢          ⎥\n",
              "⎢0  λ  1  0⎥\n",
              "⎢          ⎥\n",
              "⎢0  0  λ  1⎥\n",
              "⎢          ⎥\n",
              "⎣0  0  0  λ⎦"
            ],
            "text/latex": "$\\displaystyle \\left[\\begin{matrix}\\lambda & 1 & 0 & 0\\\\0 & \\lambda & 1 & 0\\\\0 & 0 & \\lambda & 1\\\\0 & 0 & 0 & \\lambda\\end{matrix}\\right]$"
          },
          "metadata": {},
          "execution_count": 58
        }
      ]
    },
    {
      "cell_type": "code",
      "source": [
        "for i in range(1, 7):\n",
        "  pprint(A**i)\n",
        "  print(\"\")"
      ],
      "metadata": {
        "colab": {
          "base_uri": "https://localhost:8080/"
        },
        "id": "4gEa5icTZrUS",
        "outputId": "30cf5872-4ef9-4900-a702-74de4acb73ef"
      },
      "execution_count": null,
      "outputs": [
        {
          "output_type": "stream",
          "name": "stdout",
          "text": [
            "⎡λ  1  0  0⎤\n",
            "⎢          ⎥\n",
            "⎢0  λ  1  0⎥\n",
            "⎢          ⎥\n",
            "⎢0  0  λ  1⎥\n",
            "⎢          ⎥\n",
            "⎣0  0  0  λ⎦\n",
            "\n",
            "⎡ 2               ⎤\n",
            "⎢λ   2⋅λ   1    0 ⎥\n",
            "⎢                 ⎥\n",
            "⎢     2           ⎥\n",
            "⎢0   λ    2⋅λ   1 ⎥\n",
            "⎢                 ⎥\n",
            "⎢          2      ⎥\n",
            "⎢0    0   λ    2⋅λ⎥\n",
            "⎢                 ⎥\n",
            "⎢               2 ⎥\n",
            "⎣0    0    0   λ  ⎦\n",
            "\n",
            "⎡ 3     2            ⎤\n",
            "⎢λ   3⋅λ   3⋅λ    1  ⎥\n",
            "⎢                    ⎥\n",
            "⎢      3      2      ⎥\n",
            "⎢0    λ    3⋅λ   3⋅λ ⎥\n",
            "⎢                    ⎥\n",
            "⎢            3      2⎥\n",
            "⎢0    0     λ    3⋅λ ⎥\n",
            "⎢                    ⎥\n",
            "⎢                  3 ⎥\n",
            "⎣0    0     0     λ  ⎦\n",
            "\n",
            "⎡ 4     3     2      ⎤\n",
            "⎢λ   4⋅λ   6⋅λ   4⋅λ ⎥\n",
            "⎢                    ⎥\n",
            "⎢      4      3     2⎥\n",
            "⎢0    λ    4⋅λ   6⋅λ ⎥\n",
            "⎢                    ⎥\n",
            "⎢            4      3⎥\n",
            "⎢0    0     λ    4⋅λ ⎥\n",
            "⎢                    ⎥\n",
            "⎢                  4 ⎥\n",
            "⎣0    0     0     λ  ⎦\n",
            "\n",
            "⎡ 5     4      3      2⎤\n",
            "⎢λ   5⋅λ   10⋅λ   10⋅λ ⎥\n",
            "⎢                      ⎥\n",
            "⎢      5      4       3⎥\n",
            "⎢0    λ    5⋅λ    10⋅λ ⎥\n",
            "⎢                      ⎥\n",
            "⎢            5       4 ⎥\n",
            "⎢0    0     λ     5⋅λ  ⎥\n",
            "⎢                      ⎥\n",
            "⎢                   5  ⎥\n",
            "⎣0    0      0     λ   ⎦\n",
            "\n",
            "⎡ 6     5      4      3⎤\n",
            "⎢λ   6⋅λ   15⋅λ   20⋅λ ⎥\n",
            "⎢                      ⎥\n",
            "⎢      6      5       4⎥\n",
            "⎢0    λ    6⋅λ    15⋅λ ⎥\n",
            "⎢                      ⎥\n",
            "⎢            6       5 ⎥\n",
            "⎢0    0     λ     6⋅λ  ⎥\n",
            "⎢                      ⎥\n",
            "⎢                   6  ⎥\n",
            "⎣0    0      0     λ   ⎦\n",
            "\n"
          ]
        }
      ]
    },
    {
      "cell_type": "code",
      "source": [
        "X = A - Symbol('lambda')*sp.eye(4)\n",
        "for i in range(1, 6):\n",
        "  pprint(f\"X^{i}:\")\n",
        "  pprint(X**i)\n",
        "  print(\"\")"
      ],
      "metadata": {
        "colab": {
          "base_uri": "https://localhost:8080/"
        },
        "id": "vs7eOMJQhg8a",
        "outputId": "64f0766b-2e93-4548-fac5-c6cb7441889c"
      },
      "execution_count": null,
      "outputs": [
        {
          "output_type": "stream",
          "name": "stdout",
          "text": [
            "X^1:\n",
            "⎡0  1  0  0⎤\n",
            "⎢          ⎥\n",
            "⎢0  0  1  0⎥\n",
            "⎢          ⎥\n",
            "⎢0  0  0  1⎥\n",
            "⎢          ⎥\n",
            "⎣0  0  0  0⎦\n",
            "\n",
            "X^2:\n",
            "⎡0  0  1  0⎤\n",
            "⎢          ⎥\n",
            "⎢0  0  0  1⎥\n",
            "⎢          ⎥\n",
            "⎢0  0  0  0⎥\n",
            "⎢          ⎥\n",
            "⎣0  0  0  0⎦\n",
            "\n",
            "X^3:\n",
            "⎡0  0  0  1⎤\n",
            "⎢          ⎥\n",
            "⎢0  0  0  0⎥\n",
            "⎢          ⎥\n",
            "⎢0  0  0  0⎥\n",
            "⎢          ⎥\n",
            "⎣0  0  0  0⎦\n",
            "\n",
            "X^4:\n",
            "⎡0  0  0  0⎤\n",
            "⎢          ⎥\n",
            "⎢0  0  0  0⎥\n",
            "⎢          ⎥\n",
            "⎢0  0  0  0⎥\n",
            "⎢          ⎥\n",
            "⎣0  0  0  0⎦\n",
            "\n",
            "X^5:\n",
            "⎡0  0  0  0⎤\n",
            "⎢          ⎥\n",
            "⎢0  0  0  0⎥\n",
            "⎢          ⎥\n",
            "⎢0  0  0  0⎥\n",
            "⎢          ⎥\n",
            "⎣0  0  0  0⎦\n",
            "\n"
          ]
        }
      ]
    },
    {
      "cell_type": "markdown",
      "source": [
        "# Zadanko 2 | Task 2"
      ],
      "metadata": {
        "id": "KeBXDzomHESd"
      }
    },
    {
      "cell_type": "markdown",
      "source": [
        "## Podpunkt a | Subpoint a\n",
        "\n",
        "**[PL]** Zweryfikuj, że każda macierz z zadania ma ten sam wielomian charakterystyczny, którego jedynym pierwiastkiem jest pewna liczba λ\n",
        "\n",
        "**[EN]**\n",
        "Verify that each matrix from the task has the same characteristic polynomial, whose only element is a certain number λ"
      ],
      "metadata": {
        "id": "F_5oqYVqAkE9"
      }
    },
    {
      "cell_type": "code",
      "source": [
        "a=[[4, -1, -3, 5, -2], [-5, -1, 1, -4, 4], [8, -1, -4, 6, -5], [1, 0, 0, -1, -1], [5, -1, -3, 5, -3]]\n",
        "b=[[-1, 0, -1, 1, 1], [-5, -1, 1, -4, 4], [3, 0, -2, 2, -2], [1, 0, 0, -1, -1], [0, 0, -1, 1, 0]]\n",
        "c=[[-9, 1, 2, -5, 6], [-2, -1, 0, -2, 2], [-5, 1, 1, -4, 3], [1, 0, 0, -1, -1], [-8, 1, 2, -5, 5]]\n",
        "d=[[-4, 0, 0, -1, 3], [-2, -1, 0, -2, 2], [0, 0, -1, 0, 0], [1, 0, 0, -1, -1], [-3, 0, 0, -1, 2]]\n",
        "e=[[0, 0, -1, 2, 0], [-3, -1, 1, -2, 2], [3, 0, -2, 2, -2], [1, 0, 0, -1, -1], [1, 0, -1, 2, -1]]\n",
        "f=[[2, 0, -1, 2, -2], [-3, -1, 1, -2, 2], [3, 0, -2, 2, -2], [0, 0, 0, -1, 0], [3, 0, -1, 2, -3]]\n",
        "g=[[-1, 0, 0, 0, 0], [0, -1, 0, 0, 0], [0, 0, -1, 0, 0], [0, 0, 0, -1, 0], [0, 0, 0, 0, -1]]"
      ],
      "metadata": {
        "id": "37YdLrZkhAB4"
      },
      "execution_count": null,
      "outputs": []
    },
    {
      "cell_type": "code",
      "source": [
        "input_matrices = [a, b, c, d, e, f, g]\n",
        "matrices = []\n",
        "\n",
        "for matrix in input_matrices:\n",
        "  matrix = Matrix(matrix)\n",
        "  matrices.append(matrix)"
      ],
      "metadata": {
        "id": "ezZsGpjuhiu0"
      },
      "execution_count": null,
      "outputs": []
    },
    {
      "cell_type": "code",
      "source": [
        "for matrix in matrices:\n",
        "  pprint(matrix.charpoly().as_expr())\n",
        "  print(\"\")"
      ],
      "metadata": {
        "colab": {
          "base_uri": "https://localhost:8080/"
        },
        "id": "QFET7fvmhufg",
        "outputId": "8d61b33a-576f-414b-8e24-e859169f5944"
      },
      "execution_count": null,
      "outputs": [
        {
          "output_type": "stream",
          "name": "stdout",
          "text": [
            " 5      4       3       2          \n",
            "λ  + 5⋅λ  + 10⋅λ  + 10⋅λ  + 5⋅λ + 1\n",
            "\n",
            " 5      4       3       2          \n",
            "λ  + 5⋅λ  + 10⋅λ  + 10⋅λ  + 5⋅λ + 1\n",
            "\n",
            " 5      4       3       2          \n",
            "λ  + 5⋅λ  + 10⋅λ  + 10⋅λ  + 5⋅λ + 1\n",
            "\n",
            " 5      4       3       2          \n",
            "λ  + 5⋅λ  + 10⋅λ  + 10⋅λ  + 5⋅λ + 1\n",
            "\n",
            " 5      4       3       2          \n",
            "λ  + 5⋅λ  + 10⋅λ  + 10⋅λ  + 5⋅λ + 1\n",
            "\n",
            " 5      4       3       2          \n",
            "λ  + 5⋅λ  + 10⋅λ  + 10⋅λ  + 5⋅λ + 1\n",
            "\n",
            " 5      4       3       2          \n",
            "λ  + 5⋅λ  + 10⋅λ  + 10⋅λ  + 5⋅λ + 1\n",
            "\n"
          ]
        }
      ]
    },
    {
      "cell_type": "code",
      "source": [
        "# Checking if polynomials are equal\n",
        "def check_charpoly(matrices):\n",
        "  for matrix1 in matrices:\n",
        "    for matrix2 in matrices:\n",
        "      if matrix1.charpoly() != matrix2.charpoly():\n",
        "        return False\n",
        "  return True\n",
        "\n",
        "check_charpoly(matrices)"
      ],
      "metadata": {
        "colab": {
          "base_uri": "https://localhost:8080/"
        },
        "id": "PYDicDA8RX5d",
        "outputId": "2ea8a8db-2c6e-4f13-97bf-1d912d501c52"
      },
      "execution_count": null,
      "outputs": [
        {
          "output_type": "execute_result",
          "data": {
            "text/plain": [
              "True"
            ]
          },
          "metadata": {},
          "execution_count": 43
        }
      ]
    },
    {
      "cell_type": "code",
      "source": [
        "M = matrices[0]\n",
        "eigenvalue = list(M.eigenvals().keys())[0]\n",
        "print(f'Eigenvalue : {eigenvalue}')"
      ],
      "metadata": {
        "colab": {
          "base_uri": "https://localhost:8080/"
        },
        "id": "GFn7nVs01o0D",
        "outputId": "4117b72a-15e8-46d5-e4e5-cd01534f20c6"
      },
      "execution_count": null,
      "outputs": [
        {
          "output_type": "stream",
          "name": "stdout",
          "text": [
            "Eigenvalue : -1\n"
          ]
        }
      ]
    },
    {
      "cell_type": "markdown",
      "source": [
        "## Podpunkt b | Subpoint b\n",
        "\n",
        "**[PL]** Sprawdź do jakiej macierzy blokowej podobne są odpowiednie macierzy, w szczególności ile klatek Jordana ma\n",
        "dana macierz blokowa\n",
        "\n",
        "**[EN]** Check to which block matrix the corresponding matrices are similar, in particular how many Jordan frames have\n",
        "given block matrix\n"
      ],
      "metadata": {
        "id": "FdhJ-5hWA3L9"
      }
    },
    {
      "cell_type": "code",
      "source": [
        "letters = ['A','B','C','D','E','F','G']\n",
        "for i,matrix in enumerate(matrices):\n",
        "  print(f'Original matrix {letters[i]}:')\n",
        "  pprint(matrices[i])\n",
        "  P,J = Matrix.jordan_form(matrix)\n",
        "  #print('matrix P: ')\n",
        "  #sp.pprint(P)\n",
        "  print()\n",
        "  print(f'Jordan matrix {letters[i]}:')\n",
        "  sp.pprint(J)\n",
        "  #print('matrix P^(-1): ')\n",
        "  #sp.pprint(P**(-1))\n",
        "  print('-----------------------')\n",
        "  print('')\n",
        "\n"
      ],
      "metadata": {
        "colab": {
          "base_uri": "https://localhost:8080/"
        },
        "id": "IQyKoYNbCgc4",
        "outputId": "7c56eee9-2383-41a9-bc7f-ad867b70fcf5"
      },
      "execution_count": null,
      "outputs": [
        {
          "output_type": "stream",
          "name": "stdout",
          "text": [
            "Original matrix A:\n",
            "⎡4   -1  -3  5   -2⎤\n",
            "⎢                  ⎥\n",
            "⎢-5  -1  1   -4  4 ⎥\n",
            "⎢                  ⎥\n",
            "⎢8   -1  -4  6   -5⎥\n",
            "⎢                  ⎥\n",
            "⎢1   0   0   -1  -1⎥\n",
            "⎢                  ⎥\n",
            "⎣5   -1  -3  5   -3⎦\n",
            "\n",
            "Jordan matrix A:\n",
            "⎡-1  1   0   0   0 ⎤\n",
            "⎢                  ⎥\n",
            "⎢0   -1  1   0   0 ⎥\n",
            "⎢                  ⎥\n",
            "⎢0   0   -1  1   0 ⎥\n",
            "⎢                  ⎥\n",
            "⎢0   0   0   -1  1 ⎥\n",
            "⎢                  ⎥\n",
            "⎣0   0   0   0   -1⎦\n",
            "-----------------------\n",
            "\n",
            "Original matrix B:\n",
            "⎡-1  0   -1  1   1 ⎤\n",
            "⎢                  ⎥\n",
            "⎢-5  -1  1   -4  4 ⎥\n",
            "⎢                  ⎥\n",
            "⎢3   0   -2  2   -2⎥\n",
            "⎢                  ⎥\n",
            "⎢1   0   0   -1  -1⎥\n",
            "⎢                  ⎥\n",
            "⎣0   0   -1  1   0 ⎦\n",
            "\n",
            "Jordan matrix B:\n",
            "⎡-1  1   0   0   0 ⎤\n",
            "⎢                  ⎥\n",
            "⎢0   -1  1   0   0 ⎥\n",
            "⎢                  ⎥\n",
            "⎢0   0   -1  1   0 ⎥\n",
            "⎢                  ⎥\n",
            "⎢0   0   0   -1  0 ⎥\n",
            "⎢                  ⎥\n",
            "⎣0   0   0   0   -1⎦\n",
            "-----------------------\n",
            "\n",
            "Original matrix C:\n",
            "⎡-9  1   2  -5  6 ⎤\n",
            "⎢                 ⎥\n",
            "⎢-2  -1  0  -2  2 ⎥\n",
            "⎢                 ⎥\n",
            "⎢-5  1   1  -4  3 ⎥\n",
            "⎢                 ⎥\n",
            "⎢1   0   0  -1  -1⎥\n",
            "⎢                 ⎥\n",
            "⎣-8  1   2  -5  5 ⎦\n",
            "\n",
            "Jordan matrix C:\n",
            "⎡-1  1   0   0   0 ⎤\n",
            "⎢                  ⎥\n",
            "⎢0   -1  1   0   0 ⎥\n",
            "⎢                  ⎥\n",
            "⎢0   0   -1  0   0 ⎥\n",
            "⎢                  ⎥\n",
            "⎢0   0   0   -1  1 ⎥\n",
            "⎢                  ⎥\n",
            "⎣0   0   0   0   -1⎦\n",
            "-----------------------\n",
            "\n",
            "Original matrix D:\n",
            "⎡-4  0   0   -1  3 ⎤\n",
            "⎢                  ⎥\n",
            "⎢-2  -1  0   -2  2 ⎥\n",
            "⎢                  ⎥\n",
            "⎢0   0   -1  0   0 ⎥\n",
            "⎢                  ⎥\n",
            "⎢1   0   0   -1  -1⎥\n",
            "⎢                  ⎥\n",
            "⎣-3  0   0   -1  2 ⎦\n",
            "\n",
            "Jordan matrix D:\n",
            "⎡-1  1   0   0   0 ⎤\n",
            "⎢                  ⎥\n",
            "⎢0   -1  1   0   0 ⎥\n",
            "⎢                  ⎥\n",
            "⎢0   0   -1  0   0 ⎥\n",
            "⎢                  ⎥\n",
            "⎢0   0   0   -1  0 ⎥\n",
            "⎢                  ⎥\n",
            "⎣0   0   0   0   -1⎦\n",
            "-----------------------\n",
            "\n",
            "Original matrix E:\n",
            "⎡0   0   -1  2   0 ⎤\n",
            "⎢                  ⎥\n",
            "⎢-3  -1  1   -2  2 ⎥\n",
            "⎢                  ⎥\n",
            "⎢3   0   -2  2   -2⎥\n",
            "⎢                  ⎥\n",
            "⎢1   0   0   -1  -1⎥\n",
            "⎢                  ⎥\n",
            "⎣1   0   -1  2   -1⎦\n",
            "\n",
            "Jordan matrix E:\n",
            "⎡-1  1   0   0   0 ⎤\n",
            "⎢                  ⎥\n",
            "⎢0   -1  0   0   0 ⎥\n",
            "⎢                  ⎥\n",
            "⎢0   0   -1  1   0 ⎥\n",
            "⎢                  ⎥\n",
            "⎢0   0   0   -1  0 ⎥\n",
            "⎢                  ⎥\n",
            "⎣0   0   0   0   -1⎦\n",
            "-----------------------\n",
            "\n",
            "Original matrix F:\n",
            "⎡2   0   -1  2   -2⎤\n",
            "⎢                  ⎥\n",
            "⎢-3  -1  1   -2  2 ⎥\n",
            "⎢                  ⎥\n",
            "⎢3   0   -2  2   -2⎥\n",
            "⎢                  ⎥\n",
            "⎢0   0   0   -1  0 ⎥\n",
            "⎢                  ⎥\n",
            "⎣3   0   -1  2   -3⎦\n",
            "\n",
            "Jordan matrix F:\n",
            "⎡-1  1   0   0   0 ⎤\n",
            "⎢                  ⎥\n",
            "⎢0   -1  0   0   0 ⎥\n",
            "⎢                  ⎥\n",
            "⎢0   0   -1  0   0 ⎥\n",
            "⎢                  ⎥\n",
            "⎢0   0   0   -1  0 ⎥\n",
            "⎢                  ⎥\n",
            "⎣0   0   0   0   -1⎦\n",
            "-----------------------\n",
            "\n",
            "Original matrix G:\n",
            "⎡-1  0   0   0   0 ⎤\n",
            "⎢                  ⎥\n",
            "⎢0   -1  0   0   0 ⎥\n",
            "⎢                  ⎥\n",
            "⎢0   0   -1  0   0 ⎥\n",
            "⎢                  ⎥\n",
            "⎢0   0   0   -1  0 ⎥\n",
            "⎢                  ⎥\n",
            "⎣0   0   0   0   -1⎦\n",
            "\n",
            "Jordan matrix G:\n",
            "⎡-1  0   0   0   0 ⎤\n",
            "⎢                  ⎥\n",
            "⎢0   -1  0   0   0 ⎥\n",
            "⎢                  ⎥\n",
            "⎢0   0   -1  0   0 ⎥\n",
            "⎢                  ⎥\n",
            "⎢0   0   0   -1  0 ⎥\n",
            "⎢                  ⎥\n",
            "⎣0   0   0   0   -1⎦\n",
            "-----------------------\n",
            "\n"
          ]
        }
      ]
    },
    {
      "cell_type": "markdown",
      "source": [
        "*    Matrix a (1) | 1  5x5\n",
        "*    Matrix b (2) | 1  3x3, 1 2x2 \n",
        "*    Matrix c (2) | 1  3x3, 1 2x2\n",
        "*    Matrix d (3) | 1  3x3, 2 1x1\n",
        "*    Matrix e (3) | 2  2x2, 1 1x1\n",
        "*    Matrix f (4) | 1  2x2, 3 1x1\n",
        "*    Matrix g (5) | 5  1x1"
      ],
      "metadata": {
        "id": "8VNJl4TFnZ_G"
      }
    },
    {
      "cell_type": "markdown",
      "source": [
        "## Podpunkt c | Subpoint c\n",
        "\n",
        "**[PL]** Dla każdej macierzy X z zadania oblicz wymiar jądra przekształcenia X − λI\n",
        "\n",
        "**[EN]** For each matrix X from the task, compute the dimension of the X - λI transformation kernel"
      ],
      "metadata": {
        "id": "y9HPKHjqE5h7"
      }
    },
    {
      "cell_type": "code",
      "source": [
        "print(f'λ = {eigenvalue}')"
      ],
      "metadata": {
        "colab": {
          "base_uri": "https://localhost:8080/"
        },
        "id": "M-YRlBxdcXos",
        "outputId": "d08b6159-4705-4753-e30c-d2ec4c842f07"
      },
      "execution_count": null,
      "outputs": [
        {
          "output_type": "stream",
          "name": "stdout",
          "text": [
            "λ = -1\n"
          ]
        }
      ]
    },
    {
      "cell_type": "code",
      "source": [
        "for i, X in enumerate(matrices):\n",
        "  A = X - eigenvalue * Matrix.eye(X.shape[0])\n",
        "  print(f'dim_ker({letters[i]} - λI) = {len(A.nullspace())}')"
      ],
      "metadata": {
        "colab": {
          "base_uri": "https://localhost:8080/"
        },
        "id": "9fOfnO_G8OFI",
        "outputId": "dfe5af9b-eff5-4bbe-906c-c3606b6cd3a9"
      },
      "execution_count": null,
      "outputs": [
        {
          "output_type": "stream",
          "name": "stdout",
          "text": [
            "dim_ker(A - λI) = 1\n",
            "dim_ker(B - λI) = 2\n",
            "dim_ker(C - λI) = 2\n",
            "dim_ker(D - λI) = 3\n",
            "dim_ker(E - λI) = 3\n",
            "dim_ker(F - λI) = 4\n",
            "dim_ker(G - λI) = 5\n"
          ]
        }
      ]
    },
    {
      "cell_type": "markdown",
      "source": [
        "## Podpunkt d | Subpoint d\n",
        "\n",
        "**[PL]** Napisz hipotezę w której dla macierzy X nad C, która posiada jedną wartość własną, napisz wzór na liczbę\n",
        "klatek Jordana macierzy X w zależności od dim ker(X − λI)\n",
        "\n",
        "**[EN]** Write a hypothesis in which, for a matrix X over C, which has one eigenvalue, write a formula for the number of\n",
        "Jordan frames of matrix X depending on dim ker(X - λI)\n",
        "\n"
      ],
      "metadata": {
        "id": "7H7L2YkPOLDz"
      }
    },
    {
      "cell_type": "markdown",
      "source": [
        "**Answer:**\n",
        "\n",
        "**[PL]** Hipoteza: Liczba klatek = dimker(X - λI)\n",
        "\n",
        "**[EN]** Hipothesis: Number of frames = dimker(X - λI)"
      ],
      "metadata": {
        "id": "KA4nZ8i5y51E"
      }
    },
    {
      "cell_type": "markdown",
      "source": [
        "## Podpunkt g | Subpoint g\n",
        "\n",
        "**[PL]** Dla każdej macierzy X z zadania oblicz kolejne wymiary jader\n",
        "przekształceń X − λI, (X − λI)^2 , (X − λI)^3 , . . ..\n",
        "\n",
        "**[EN]** For each matrix X from the task, calculate the successive dimensions of the kernels\n",
        "transformations X - λI, (X - λI)^2 , (X - λI)^3 , . . .."
      ],
      "metadata": {
        "id": "8MCujolcrPMY"
      }
    },
    {
      "cell_type": "code",
      "source": [
        "def kernelPowers(X, n):\n",
        "  Y = X - list(X.eigenvals().keys())[0] * Matrix.eye(X.shape[0])\n",
        "  powers = []\n",
        "  for j in range(1, n + 1):\n",
        "    d = len((Y**j).nullspace())\n",
        "    print(f'd{j} = {d}')\n",
        "    powers.append(d) \n",
        "  return powers"
      ],
      "metadata": {
        "id": "UlTghDaMdKPT"
      },
      "execution_count": null,
      "outputs": []
    },
    {
      "cell_type": "code",
      "source": [
        "for i, X in enumerate(matrices):\n",
        "  A = X - eigenvalue * Matrix.eye(X.shape[0])\n",
        "  print(f'For matrix {letters[i]}')\n",
        "  kernelPowers(A, 8)\n",
        "  print('------------------------')"
      ],
      "metadata": {
        "id": "vbau7dPMRUn6",
        "colab": {
          "base_uri": "https://localhost:8080/"
        },
        "outputId": "b9d61fc9-f5d9-49a1-e673-90e19511e7fe"
      },
      "execution_count": null,
      "outputs": [
        {
          "output_type": "stream",
          "name": "stdout",
          "text": [
            "For matrix A\n",
            "d1 = 1\n",
            "d2 = 2\n",
            "d3 = 3\n",
            "d4 = 4\n",
            "d5 = 5\n",
            "d6 = 5\n",
            "d7 = 5\n",
            "d8 = 5\n",
            "------------------------\n",
            "For matrix B\n",
            "d1 = 2\n",
            "d2 = 3\n",
            "d3 = 4\n",
            "d4 = 5\n",
            "d5 = 5\n",
            "d6 = 5\n",
            "d7 = 5\n",
            "d8 = 5\n",
            "------------------------\n",
            "For matrix C\n",
            "d1 = 2\n",
            "d2 = 4\n",
            "d3 = 5\n",
            "d4 = 5\n",
            "d5 = 5\n",
            "d6 = 5\n",
            "d7 = 5\n",
            "d8 = 5\n",
            "------------------------\n",
            "For matrix D\n",
            "d1 = 3\n",
            "d2 = 4\n",
            "d3 = 5\n",
            "d4 = 5\n",
            "d5 = 5\n",
            "d6 = 5\n",
            "d7 = 5\n",
            "d8 = 5\n",
            "------------------------\n",
            "For matrix E\n",
            "d1 = 3\n",
            "d2 = 5\n",
            "d3 = 5\n",
            "d4 = 5\n",
            "d5 = 5\n",
            "d6 = 5\n",
            "d7 = 5\n",
            "d8 = 5\n",
            "------------------------\n",
            "For matrix F\n",
            "d1 = 4\n",
            "d2 = 5\n",
            "d3 = 5\n",
            "d4 = 5\n",
            "d5 = 5\n",
            "d6 = 5\n",
            "d7 = 5\n",
            "d8 = 5\n",
            "------------------------\n",
            "For matrix G\n",
            "d1 = 5\n",
            "d2 = 5\n",
            "d3 = 5\n",
            "d4 = 5\n",
            "d5 = 5\n",
            "d6 = 5\n",
            "d7 = 5\n",
            "d8 = 5\n",
            "------------------------\n"
          ]
        }
      ]
    },
    {
      "cell_type": "markdown",
      "source": [
        "**[PL]** Hipoteza: klatek będzie d1  \n",
        "\n",
        "Klatek stopnia większego od 1 będzie d2 − d1 \n",
        "\n",
        "Klatek stopnia większego od 2 będzie d3 − d2 \n",
        "\n",
        "Klatek stopnia większego od 3 będzie d4 − d3 \n",
        "\n",
        "Klatek stopnia większego od 4 będzie d5 − d4 \n",
        "\n",
        "**[EN]** Hypothesis: There will be d1 frames  \n",
        "\n",
        "Frames of degree greater than 1 will be d2 - d1 \n",
        "\n",
        "Frames of degree greater than 2 will be d3 - d2 \n",
        "\n",
        "Frames of degree greater than 3 will be d4 - d3 \n",
        "\n",
        "Frames of degree greater than 4 will be d5 - d4"
      ],
      "metadata": {
        "id": "HW4TbVGJqSbl"
      }
    },
    {
      "cell_type": "markdown",
      "source": [
        "## Podpunkt h | Subpoint h\n",
        "\n",
        "**[PL]** Zweryfikuj znalezioną zależność z poprzedniego podpunktu dla następujących macierzy H oraz K:\n",
        "\n",
        "**[EN]** Verify the relationship found from the previous subpoint for the following matrices H and K:"
      ],
      "metadata": {
        "id": "B7kk7WQNX_JR"
      }
    },
    {
      "cell_type": "code",
      "source": [
        "H = Matrix([[-17, -26, -3, 6, -3, 25],[4, 9, 1, -2, 2, -7],[-19, -28, -1, 6, -5, 27],[-1, -2, 0, 2, -1, 2],[-20, -27, -3, 6, -1, 26],[-15, -19, -2, 4, -1, 20]])\n",
        "K = Matrix([[-14, -24, -3, 5, -4, 23], [9, 16, 1, -4, 4, -14], [-18, -27, -1, 6, -5, 26], [0, 0, 0, 2, 0, 0], [-16, -24, -3, 5, -2, 23], [-7, -10, -2, 1, 0, 11]])\n",
        "print('Matrix H')\n",
        "pprint(H)\n",
        "print()\n",
        "print('Matrix K')\n",
        "pprint(K)"
      ],
      "metadata": {
        "colab": {
          "base_uri": "https://localhost:8080/"
        },
        "id": "3jOiup8vYTZO",
        "outputId": "ebf60baf-3d9e-4e9f-bebf-d3279dd4e2fe"
      },
      "execution_count": null,
      "outputs": [
        {
          "output_type": "stream",
          "name": "stdout",
          "text": [
            "Matrix H\n",
            "⎡-17  -26  -3  6   -3  25⎤\n",
            "⎢                        ⎥\n",
            "⎢ 4    9   1   -2  2   -7⎥\n",
            "⎢                        ⎥\n",
            "⎢-19  -28  -1  6   -5  27⎥\n",
            "⎢                        ⎥\n",
            "⎢-1   -2   0   2   -1  2 ⎥\n",
            "⎢                        ⎥\n",
            "⎢-20  -27  -3  6   -1  26⎥\n",
            "⎢                        ⎥\n",
            "⎣-15  -19  -2  4   -1  20⎦\n",
            "\n",
            "Matrix K\n",
            "⎡-14  -24  -3  5   -4  23 ⎤\n",
            "⎢                         ⎥\n",
            "⎢ 9   16   1   -4  4   -14⎥\n",
            "⎢                         ⎥\n",
            "⎢-18  -27  -1  6   -5  26 ⎥\n",
            "⎢                         ⎥\n",
            "⎢ 0    0   0   2   0    0 ⎥\n",
            "⎢                         ⎥\n",
            "⎢-16  -24  -3  5   -2  23 ⎥\n",
            "⎢                         ⎥\n",
            "⎣-7   -10  -2  1   0   11 ⎦\n"
          ]
        }
      ]
    },
    {
      "cell_type": "markdown",
      "source": [
        "**[PL]** Wyznacz wartości własne macierzy Y (Y to ustalona macierz z tego podpunktu), też okaże się, że macierz\n",
        "Y ma tylko jedną wartość własną\n",
        "\n",
        "**[EN]** Determine the eigenvalues of the matrix Y (Y is the fixed matrix from this subsection), also you will find that the matrix\n",
        "Y has only one eigenvalue"
      ],
      "metadata": {
        "id": "ROsfgxXcZVtX"
      }
    },
    {
      "cell_type": "code",
      "source": [
        "print('Matrix H eigenvalues and multiplicity: ', end=\"\")\n",
        "pprint(H.eigenvals())\n",
        "print('Matrix K eigenvalues and multiplicity: ', end=\"\")\n",
        "pprint(K.eigenvals())"
      ],
      "metadata": {
        "colab": {
          "base_uri": "https://localhost:8080/"
        },
        "id": "vhH6hmCcZXMq",
        "outputId": "72a068d4-c66e-405f-81b2-53c862480476"
      },
      "execution_count": null,
      "outputs": [
        {
          "output_type": "stream",
          "name": "stdout",
          "text": [
            "Matrix H eigenvalues and multiplicity: {2: 6}\n",
            "Matrix K eigenvalues and multiplicity: {2: 6}\n"
          ]
        }
      ]
    },
    {
      "cell_type": "code",
      "source": [
        "eigenvalue = list(H.eigenvals().keys())[0]\n",
        "print(f'Eigenvalue of H i K equals {eigenvalue}')"
      ],
      "metadata": {
        "colab": {
          "base_uri": "https://localhost:8080/"
        },
        "id": "kMPDd_gLacxt",
        "outputId": "b5e71734-4931-49b7-932f-914216a8cef7"
      },
      "execution_count": null,
      "outputs": [
        {
          "output_type": "stream",
          "name": "stdout",
          "text": [
            "Eigenvalue of H i K equals 2\n"
          ]
        }
      ]
    },
    {
      "cell_type": "markdown",
      "source": [
        "**[PL]** Oblicz dim ker(Y − λI), dim ker(Y − λI)^2 , dim ker(Y − λI)^3 , . . .. I na podstawie tego zapisz wielkości poszczególnych klatek Jordana macierzy Y .\n",
        "\n",
        "**[EN]** Calculate dim ker(Y - λI), dim ker(Y - λI)^2 , dim ker(Y - λI)^3 , . . .. And based on this, record the sizes of the individual Jordan frames of the matrix Y ."
      ],
      "metadata": {
        "id": "ZJ9vQtD_Z7Z5"
      }
    },
    {
      "cell_type": "code",
      "source": [
        "A = H - eigenvalue * Matrix.eye(H.shape[0])\n",
        "print('For matrix H')\n",
        "kernelPowers(H, 8)\n",
        "print('------------------------')\n",
        "A = K - eigenvalue * Matrix.eye(K.shape[0])\n",
        "print('For matrix K')\n",
        "kernelPowers(K, 8)\n",
        "print('------------------------')"
      ],
      "metadata": {
        "colab": {
          "base_uri": "https://localhost:8080/"
        },
        "id": "_k4wndhEaNwn",
        "outputId": "c333990a-3869-4342-b3a9-e3aaa5ceb9c9"
      },
      "execution_count": null,
      "outputs": [
        {
          "output_type": "stream",
          "name": "stdout",
          "text": [
            "For matrix H\n",
            "d1 = 2\n",
            "d2 = 4\n",
            "d3 = 6\n",
            "d4 = 6\n",
            "d5 = 6\n",
            "d6 = 6\n",
            "d7 = 6\n",
            "d8 = 6\n",
            "------------------------\n",
            "For matrix K\n",
            "d1 = 3\n",
            "d2 = 4\n",
            "d3 = 5\n",
            "d4 = 6\n",
            "d5 = 6\n",
            "d6 = 6\n",
            "d7 = 6\n",
            "d8 = 6\n",
            "------------------------\n"
          ]
        }
      ]
    },
    {
      "cell_type": "markdown",
      "source": [
        "Predicted number of frames:"
      ],
      "metadata": {
        "id": "JZ3sM8v3lr2g"
      }
    },
    {
      "cell_type": "code",
      "source": [
        "def blocksEstimator(X):\n",
        "  blocks = kernelPowers(X, 7)\n",
        "  print('------------------------------')\n",
        "  print(f'Number of frames: {blocks[0]}')\n",
        "  for i in range(1, shape(X)[0]):\n",
        "    print(f'Frames of dim bigger than {i} is {blocks[i] - blocks[i - 1]}')"
      ],
      "metadata": {
        "id": "irW31uXwlqXH"
      },
      "execution_count": null,
      "outputs": []
    },
    {
      "cell_type": "code",
      "source": [
        "print('For matrix H')\n",
        "blocksEstimator(H)\n",
        "print()\n",
        "print('H Jordan form:')\n",
        "pprint(H.jordan_form()[1])\n",
        "print()\n",
        "print('================================================================')\n",
        "print()\n",
        "print('For matrix K')\n",
        "blocksEstimator(K)\n",
        "print()\n",
        "print('K Jordan form:')\n",
        "pprint(K.jordan_form()[1])"
      ],
      "metadata": {
        "colab": {
          "base_uri": "https://localhost:8080/"
        },
        "id": "U2_m3LL9o4aH",
        "outputId": "135e0b69-d4fe-4990-b2b9-c5aa5bf3345d"
      },
      "execution_count": null,
      "outputs": [
        {
          "output_type": "stream",
          "name": "stdout",
          "text": [
            "For matrix H\n",
            "d1 = 2\n",
            "d2 = 4\n",
            "d3 = 6\n",
            "d4 = 6\n",
            "d5 = 6\n",
            "d6 = 6\n",
            "d7 = 6\n",
            "------------------------------\n",
            "Number of frames: 2\n",
            "Frames of dim bigger than 1 is 2\n",
            "Frames of dim bigger than 2 is 2\n",
            "Frames of dim bigger than 3 is 0\n",
            "Frames of dim bigger than 4 is 0\n",
            "Frames of dim bigger than 5 is 0\n",
            "\n",
            "H Jordan form:\n",
            "⎡2  1  0  0  0  0⎤\n",
            "⎢                ⎥\n",
            "⎢0  2  1  0  0  0⎥\n",
            "⎢                ⎥\n",
            "⎢0  0  2  0  0  0⎥\n",
            "⎢                ⎥\n",
            "⎢0  0  0  2  1  0⎥\n",
            "⎢                ⎥\n",
            "⎢0  0  0  0  2  1⎥\n",
            "⎢                ⎥\n",
            "⎣0  0  0  0  0  2⎦\n",
            "\n",
            "================================================================\n",
            "\n",
            "For matrix K\n",
            "d1 = 3\n",
            "d2 = 4\n",
            "d3 = 5\n",
            "d4 = 6\n",
            "d5 = 6\n",
            "d6 = 6\n",
            "d7 = 6\n",
            "------------------------------\n",
            "Number of frames: 3\n",
            "Frames of dim bigger than 1 is 1\n",
            "Frames of dim bigger than 2 is 1\n",
            "Frames of dim bigger than 3 is 1\n",
            "Frames of dim bigger than 4 is 0\n",
            "Frames of dim bigger than 5 is 0\n",
            "\n",
            "K Jordan form:\n",
            "⎡2  1  0  0  0  0⎤\n",
            "⎢                ⎥\n",
            "⎢0  2  1  0  0  0⎥\n",
            "⎢                ⎥\n",
            "⎢0  0  2  1  0  0⎥\n",
            "⎢                ⎥\n",
            "⎢0  0  0  2  0  0⎥\n",
            "⎢                ⎥\n",
            "⎢0  0  0  0  2  0⎥\n",
            "⎢                ⎥\n",
            "⎣0  0  0  0  0  2⎦\n"
          ]
        }
      ]
    },
    {
      "cell_type": "markdown",
      "source": [
        "# Zadanko 3 | Task 3\n",
        "**[PL]** Znajdź macierz realizujacą podobieństwo dla macierzy H\n",
        "\n",
        "**[EN]** Find the matrix realizing the similarity for the matrix H."
      ],
      "metadata": {
        "id": "sr4hTKvyHaen"
      }
    },
    {
      "cell_type": "code",
      "source": [
        "h=[[-17, -26, -3, 6, -3, 25], [4, 9, 1, -2, 2, -7], [-19, -28, -1, 6, -5, 27], [-1, -2, 0, 2, -1, 2], [-20, -27, -3, 6, -1, 26], [-15, -19, -2, 4, -1, 20]]\n",
        "H = Matrix(h)\n",
        "P,J = Matrix.jordan_form(H)\n",
        "\n",
        "\n",
        "pprint(P)\n",
        "print()\n",
        "#pprint(J)\n",
        "sp.pprint(P**(-1))\n",
        "#print('--------')\n",
        "#sp.pprint(H)\n",
        "#sp.pprint(P * J * (P**(-1)))\n",
        "\n",
        "print()\n",
        "print(f'Checking if True:')\n",
        "print((P * J * P**(-1)) == H)\n",
        "\n",
        "\n"
      ],
      "metadata": {
        "colab": {
          "base_uri": "https://localhost:8080/"
        },
        "id": "gm1PzKFbIZAN",
        "outputId": "3ec0a4cf-93ca-43fd-fe61-e66cc8f9ef14"
      },
      "execution_count": null,
      "outputs": [
        {
          "output_type": "stream",
          "name": "stdout",
          "text": [
            "⎡-7  -19  1  -10  -26  0⎤\n",
            "⎢                       ⎥\n",
            "⎢0    4   0   0    7   1⎥\n",
            "⎢                       ⎥\n",
            "⎢-5  -19  0  -8   -28  0⎥\n",
            "⎢                       ⎥\n",
            "⎢1   -1   0   1   -2   0⎥\n",
            "⎢                       ⎥\n",
            "⎢-7  -20  0  -10  -27  0⎥\n",
            "⎢                       ⎥\n",
            "⎣-7  -15  0  -10  -19  0⎦\n",
            "\n",
            "⎡             80    -47        ⎤\n",
            "⎢0  0  5/27   ──    ────  17/9 ⎥\n",
            "⎢             27     27        ⎥\n",
            "⎢                              ⎥\n",
            "⎢0  0  8/9   -16/9  -5/9  -1/3 ⎥\n",
            "⎢                              ⎥\n",
            "⎢1  0  -1/3   2/3   -2/3    0  ⎥\n",
            "⎢                              ⎥\n",
            "⎢      -11   -41     44        ⎥\n",
            "⎢0  0  ────  ────    ──   -14/9⎥\n",
            "⎢       27    27     27        ⎥\n",
            "⎢                              ⎥\n",
            "⎢0  0  -5/9  10/9   2/9    1/3 ⎥\n",
            "⎢                              ⎥\n",
            "⎣0  1  1/3   -2/3   2/3    -1  ⎦\n",
            "\n",
            "Checking if True:\n",
            "True\n"
          ]
        }
      ]
    },
    {
      "cell_type": "markdown",
      "source": [
        "# Zadanko 5 | Task 5\n",
        "\n",
        "**[PL]** Podnieś macierz C z zadanka 2. do potęgi 2021, korzystając z postaci Jordana macierzy C\n",
        "\n",
        "**[EN]** Raise the matrix C from Task 2 to the power of 2021 using the Jordan form of the matrix C."
      ],
      "metadata": {
        "id": "RtB-Qg1dLsmc"
      }
    },
    {
      "cell_type": "code",
      "source": [
        "C = matrices[2]\n",
        "C"
      ],
      "metadata": {
        "colab": {
          "base_uri": "https://localhost:8080/",
          "height": 119
        },
        "id": "3gjwOk5GL6Ga",
        "outputId": "d2a3a2de-bbc1-484b-ddff-37d2fe69564f"
      },
      "execution_count": null,
      "outputs": [
        {
          "output_type": "execute_result",
          "data": {
            "text/plain": [
              "⎡-9  1   2  -5  6 ⎤\n",
              "⎢                 ⎥\n",
              "⎢-2  -1  0  -2  2 ⎥\n",
              "⎢                 ⎥\n",
              "⎢-5  1   1  -4  3 ⎥\n",
              "⎢                 ⎥\n",
              "⎢1   0   0  -1  -1⎥\n",
              "⎢                 ⎥\n",
              "⎣-8  1   2  -5  5 ⎦"
            ],
            "text/latex": "$\\displaystyle \\left[\\begin{matrix}-9 & 1 & 2 & -5 & 6\\\\-2 & -1 & 0 & -2 & 2\\\\-5 & 1 & 1 & -4 & 3\\\\1 & 0 & 0 & -1 & -1\\\\-8 & 1 & 2 & -5 & 5\\end{matrix}\\right]$"
          },
          "metadata": {},
          "execution_count": 57
        }
      ]
    },
    {
      "cell_type": "code",
      "source": [
        "P, J = C.jordan_form()\n",
        "J"
      ],
      "metadata": {
        "colab": {
          "base_uri": "https://localhost:8080/",
          "height": 119
        },
        "id": "delWsf3XMmFp",
        "outputId": "3f111633-d612-4f57-f1b1-00e7f723d40b"
      },
      "execution_count": null,
      "outputs": [
        {
          "output_type": "execute_result",
          "data": {
            "text/plain": [
              "⎡-1  1   0   0   0 ⎤\n",
              "⎢                  ⎥\n",
              "⎢0   -1  1   0   0 ⎥\n",
              "⎢                  ⎥\n",
              "⎢0   0   -1  0   0 ⎥\n",
              "⎢                  ⎥\n",
              "⎢0   0   0   -1  1 ⎥\n",
              "⎢                  ⎥\n",
              "⎣0   0   0   0   -1⎦"
            ],
            "text/latex": "$\\displaystyle \\left[\\begin{matrix}-1 & 1 & 0 & 0 & 0\\\\0 & -1 & 1 & 0 & 0\\\\0 & 0 & -1 & 0 & 0\\\\0 & 0 & 0 & -1 & 1\\\\0 & 0 & 0 & 0 & -1\\end{matrix}\\right]$"
          },
          "metadata": {},
          "execution_count": 58
        }
      ]
    },
    {
      "cell_type": "code",
      "source": [
        "N = P**-1\n",
        "N"
      ],
      "metadata": {
        "colab": {
          "base_uri": "https://localhost:8080/",
          "height": 119
        },
        "id": "AeiQHElSOAB7",
        "outputId": "581f37e9-8a04-40db-9bba-fa61b29adad4"
      },
      "execution_count": null,
      "outputs": [
        {
          "output_type": "execute_result",
          "data": {
            "text/plain": [
              "⎡0  0  1  -3  -1⎤\n",
              "⎢               ⎥\n",
              "⎢0  0  0  1   0 ⎥\n",
              "⎢               ⎥\n",
              "⎢1  0  0  0   -1⎥\n",
              "⎢               ⎥\n",
              "⎢0  0  1  5   0 ⎥\n",
              "⎢               ⎥\n",
              "⎣0  1  2  -4  -2⎦"
            ],
            "text/latex": "$\\displaystyle \\left[\\begin{matrix}0 & 0 & 1 & -3 & -1\\\\0 & 0 & 0 & 1 & 0\\\\1 & 0 & 0 & 0 & -1\\\\0 & 0 & 1 & 5 & 0\\\\0 & 1 & 2 & -4 & -2\\end{matrix}\\right]$"
          },
          "metadata": {},
          "execution_count": 59
        }
      ]
    },
    {
      "cell_type": "code",
      "source": [
        "# C = N^-1 * J * N\n",
        "C == (N**(-1) * J * N)"
      ],
      "metadata": {
        "colab": {
          "base_uri": "https://localhost:8080/"
        },
        "id": "7V7VXBYWQdH_",
        "outputId": "fa799331-556f-41ea-b80b-219fb7b43eda"
      },
      "execution_count": null,
      "outputs": [
        {
          "output_type": "execute_result",
          "data": {
            "text/plain": [
              "True"
            ]
          },
          "metadata": {},
          "execution_count": 60
        }
      ]
    },
    {
      "cell_type": "code",
      "source": [
        "# C^2021 = N^-1 * J * N * N^-1 * J * N * ... * N * J * N^-1 = N^-1 * J^2021 * N\n",
        "N**(-1) * J**(2021) * N"
      ],
      "metadata": {
        "colab": {
          "base_uri": "https://localhost:8080/",
          "height": 119
        },
        "id": "CdgijzN_M4dD",
        "outputId": "c01da5b0-2452-4b16-8f01-01a6a21a29df"
      },
      "execution_count": null,
      "outputs": [
        {
          "output_type": "execute_result",
          "data": {
            "text/plain": [
              "⎡2025041  2021  4042  -10105  -2029084⎤\n",
              "⎢                                     ⎥\n",
              "⎢4078378   -1    0    -4042   -4078378⎥\n",
              "⎢                                     ⎥\n",
              "⎢-10105   2021  4041  -8084     6063  ⎥\n",
              "⎢                                     ⎥\n",
              "⎢ 2021     0     0      -1     -2021  ⎥\n",
              "⎢                                     ⎥\n",
              "⎣2025042  2021  4042  -10105  -2029085⎦"
            ],
            "text/latex": "$\\displaystyle \\left[\\begin{matrix}2025041 & 2021 & 4042 & -10105 & -2029084\\\\4078378 & -1 & 0 & -4042 & -4078378\\\\-10105 & 2021 & 4041 & -8084 & 6063\\\\2021 & 0 & 0 & -1 & -2021\\\\2025042 & 2021 & 4042 & -10105 & -2029085\\end{matrix}\\right]$"
          },
          "metadata": {},
          "execution_count": 61
        }
      ]
    },
    {
      "cell_type": "code",
      "source": [
        "#Checking if True\n",
        "C**2021 == N**(-1) * J**(2021) * N"
      ],
      "metadata": {
        "colab": {
          "base_uri": "https://localhost:8080/"
        },
        "id": "z2Be2ZRpPB3-",
        "outputId": "a7d624ef-bc53-48a7-fe53-e5b2132c87b2"
      },
      "execution_count": null,
      "outputs": [
        {
          "output_type": "execute_result",
          "data": {
            "text/plain": [
              "True"
            ]
          },
          "metadata": {},
          "execution_count": 62
        }
      ]
    },
    {
      "cell_type": "markdown",
      "source": [
        "# Zadanko 6 | Task 6\n",
        "\n",
        "**[PL]** Niech A ∈ Mn (C) będzie macierzą nilpotentną (tzn. taka, której jedyna wartość własna to 0). Podaj\n",
        "przykład (lub uzasadnij, że to niemożliwe) takiego A w postaci Jordana, że...\n",
        "\n",
        "**[PL]** Let A ∈ Mn (C) be a nilpotent matrix (i.e., one whose only eigenvalue is 0). Give\n",
        "example (or justify that it is impossible) of such an A in Jordan form that...."
      ],
      "metadata": {
        "id": "dffMIkUO-AXP"
      }
    },
    {
      "cell_type": "markdown",
      "source": [
        "## Podpunkt a | Subpoint a\n",
        "\n",
        "dim ker A^k = 1, 2, 3, 4, 4, 4...   \n",
        "k= 1, 2, 3 ..."
      ],
      "metadata": {
        "id": "3VREwlBhDsFE"
      }
    },
    {
      "cell_type": "code",
      "source": [
        "X = Matrix([[1, 1, 3, -2], [-1, 3, 4, -2], [0, 0, 1, 1], [0, 0, -1, 3]])\n",
        "X"
      ],
      "metadata": {
        "colab": {
          "base_uri": "https://localhost:8080/",
          "height": 99
        },
        "id": "gvpc9dQgh6eq",
        "outputId": "1166af92-78b7-4eae-a0dd-4879d34af677"
      },
      "execution_count": null,
      "outputs": [
        {
          "output_type": "execute_result",
          "data": {
            "text/plain": [
              "⎡1   1  3   -2⎤\n",
              "⎢             ⎥\n",
              "⎢-1  3  4   -2⎥\n",
              "⎢             ⎥\n",
              "⎢0   0  1   1 ⎥\n",
              "⎢             ⎥\n",
              "⎣0   0  -1  3 ⎦"
            ],
            "text/latex": "$\\displaystyle \\left[\\begin{matrix}1 & 1 & 3 & -2\\\\-1 & 3 & 4 & -2\\\\0 & 0 & 1 & 1\\\\0 & 0 & -1 & 3\\end{matrix}\\right]$"
          },
          "metadata": {},
          "execution_count": 63
        }
      ]
    },
    {
      "cell_type": "code",
      "source": [
        "kernelPowers(X, 10)"
      ],
      "metadata": {
        "colab": {
          "base_uri": "https://localhost:8080/",
          "height": 211
        },
        "id": "uaBkwf5RUOQk",
        "outputId": "1fb17aa6-7ede-4ffd-e2c7-863960b3dbac"
      },
      "execution_count": null,
      "outputs": [
        {
          "output_type": "stream",
          "name": "stdout",
          "text": [
            "d1 = 1\n",
            "d2 = 2\n",
            "d3 = 3\n",
            "d4 = 4\n",
            "d5 = 4\n",
            "d6 = 4\n",
            "d7 = 4\n",
            "d8 = 4\n",
            "d9 = 4\n",
            "d10 = 4\n"
          ]
        },
        {
          "output_type": "execute_result",
          "data": {
            "text/plain": [
              "[1, 2, 3, 4, 4, 4, 4, 4, 4, 4]"
            ],
            "text/latex": "$\\displaystyle \\left[ 1, \\  2, \\  3, \\  4, \\  4, \\  4, \\  4, \\  4, \\  4, \\  4\\right]$"
          },
          "metadata": {},
          "execution_count": 64
        }
      ]
    },
    {
      "cell_type": "markdown",
      "source": [
        "Another example: "
      ],
      "metadata": {
        "id": "rR3nm847iJ31"
      }
    },
    {
      "cell_type": "code",
      "source": [
        "X = Matrix([[0, 1, 1, 1], [0, 0, 1, 0], [0, 0, 0, 1], [0, 0, 0, 0]])\n",
        "X"
      ],
      "metadata": {
        "colab": {
          "base_uri": "https://localhost:8080/",
          "height": 99
        },
        "id": "8NnHHDjiiFfl",
        "outputId": "000fb1a5-99e7-4ab1-b9d8-d2517f26adc4"
      },
      "execution_count": null,
      "outputs": [
        {
          "output_type": "execute_result",
          "data": {
            "text/plain": [
              "⎡0  1  1  1⎤\n",
              "⎢          ⎥\n",
              "⎢0  0  1  0⎥\n",
              "⎢          ⎥\n",
              "⎢0  0  0  1⎥\n",
              "⎢          ⎥\n",
              "⎣0  0  0  0⎦"
            ],
            "text/latex": "$\\displaystyle \\left[\\begin{matrix}0 & 1 & 1 & 1\\\\0 & 0 & 1 & 0\\\\0 & 0 & 0 & 1\\\\0 & 0 & 0 & 0\\end{matrix}\\right]$"
          },
          "metadata": {},
          "execution_count": 65
        }
      ]
    },
    {
      "cell_type": "code",
      "source": [
        "kernelPowers(X, 10)"
      ],
      "metadata": {
        "colab": {
          "base_uri": "https://localhost:8080/",
          "height": 211
        },
        "id": "Yb1j-YtCQbzU",
        "outputId": "4a4cb98d-ccb7-4d70-a483-3af5cf4d439e"
      },
      "execution_count": null,
      "outputs": [
        {
          "output_type": "stream",
          "name": "stdout",
          "text": [
            "d1 = 1\n",
            "d2 = 2\n",
            "d3 = 3\n",
            "d4 = 4\n",
            "d5 = 4\n",
            "d6 = 4\n",
            "d7 = 4\n",
            "d8 = 4\n",
            "d9 = 4\n",
            "d10 = 4\n"
          ]
        },
        {
          "output_type": "execute_result",
          "data": {
            "text/plain": [
              "[1, 2, 3, 4, 4, 4, 4, 4, 4, 4]"
            ],
            "text/latex": "$\\displaystyle \\left[ 1, \\  2, \\  3, \\  4, \\  4, \\  4, \\  4, \\  4, \\  4, \\  4\\right]$"
          },
          "metadata": {},
          "execution_count": 66
        }
      ]
    },
    {
      "cell_type": "markdown",
      "source": [
        "## Podpunkt b | Subpoint b\n",
        " \n",
        "dim ker A^k = 2, 4, 5, 5, 5...   \n",
        "k=1, 2, 3 ..."
      ],
      "metadata": {
        "id": "eo2oxzKnigMS"
      }
    },
    {
      "cell_type": "code",
      "source": [
        "X = Matrix([[-9, 1, 2, -5, 6], [-2, -1, 0, -2, 2], [-5, 1, 1, -4, 3], [1, 0, 0, -1, -1], [-8, 1, 2, -5, 5]])\n",
        "X"
      ],
      "metadata": {
        "colab": {
          "base_uri": "https://localhost:8080/",
          "height": 119
        },
        "id": "ba7oX8YrlG2v",
        "outputId": "fbe7efc5-edfe-471d-ad45-ea577ed59269"
      },
      "execution_count": null,
      "outputs": [
        {
          "output_type": "execute_result",
          "data": {
            "text/plain": [
              "⎡-9  1   2  -5  6 ⎤\n",
              "⎢                 ⎥\n",
              "⎢-2  -1  0  -2  2 ⎥\n",
              "⎢                 ⎥\n",
              "⎢-5  1   1  -4  3 ⎥\n",
              "⎢                 ⎥\n",
              "⎢1   0   0  -1  -1⎥\n",
              "⎢                 ⎥\n",
              "⎣-8  1   2  -5  5 ⎦"
            ],
            "text/latex": "$\\displaystyle \\left[\\begin{matrix}-9 & 1 & 2 & -5 & 6\\\\-2 & -1 & 0 & -2 & 2\\\\-5 & 1 & 1 & -4 & 3\\\\1 & 0 & 0 & -1 & -1\\\\-8 & 1 & 2 & -5 & 5\\end{matrix}\\right]$"
          },
          "metadata": {},
          "execution_count": 67
        }
      ]
    },
    {
      "cell_type": "code",
      "source": [
        "kernelPowers(X, 10)\n",
        "print()"
      ],
      "metadata": {
        "colab": {
          "base_uri": "https://localhost:8080/"
        },
        "id": "YFVt3UJhlKzC",
        "outputId": "5ee323b4-b024-47d4-c959-f9d5c93e6d83"
      },
      "execution_count": null,
      "outputs": [
        {
          "output_type": "stream",
          "name": "stdout",
          "text": [
            "d1 = 2\n",
            "d2 = 4\n",
            "d3 = 5\n",
            "d4 = 5\n",
            "d5 = 5\n",
            "d6 = 5\n",
            "d7 = 5\n",
            "d8 = 5\n",
            "d9 = 5\n",
            "d10 = 5\n",
            "\n"
          ]
        }
      ]
    }
  ]
}